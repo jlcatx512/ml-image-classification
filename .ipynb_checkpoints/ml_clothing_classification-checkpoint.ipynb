{
 "cells": [
  {
   "cell_type": "code",
   "execution_count": null,
   "metadata": {
    "colab": {},
    "colab_type": "code",
    "id": "E0sZLTegHBWT"
   },
   "outputs": [],
   "source": [
    "!pip install -r requirements.txt"
   ]
  },
  {
   "cell_type": "code",
   "execution_count": null,
   "metadata": {
    "colab": {},
    "colab_type": "code",
    "id": "CLR8kAbAHKrR"
   },
   "outputs": [],
   "source": [
    "!tar -xvf archive.tar.gz"
   ]
  },
  {
   "cell_type": "code",
   "execution_count": null,
   "metadata": {
    "colab": {},
    "colab_type": "code",
    "id": "3xHCvg8_HK0f"
   },
   "outputs": [],
   "source": [
    "%matplotlib inline\n",
    "import matplotlib.pyplot as plt\n",
    "import numpy as np\n",
    "import os"
   ]
  },
  {
   "cell_type": "code",
   "execution_count": null,
   "metadata": {
    "colab": {},
    "colab_type": "code",
    "id": "0vAyQwE6HK6e"
   },
   "outputs": [],
   "source": [
    "from keras.applications.vgg19 import (\n",
    "    VGG19, preprocess_input, decode_predictions)\n",
    "from keras.preprocessing import image\n",
    "from keras.models import Sequential\n",
    "from keras.layers import Dense, Activation, Flatten\n",
    "from keras.layers import merge, Input\n",
    "from keras.models import Model\n",
    "from keras.utils import to_categorical, np_utils\n",
    "from sklearn.utils import shuffle\n",
    "from sklearn.model_selection import train_test_split"
   ]
  },
  {
   "cell_type": "code",
   "execution_count": null,
   "metadata": {
    "colab": {},
    "colab_type": "code",
    "id": "JVZZ3dz8HK9d"
   },
   "outputs": [],
   "source": [
    "import data"
   ]
  },
  {
   "cell_type": "code",
   "execution_count": null,
   "metadata": {
    "colab": {},
    "colab_type": "code",
    "id": "6tm3MsjB3cDn"
   },
   "outputs": [],
   "source": [
    "data.train_path = \"Resources/train\"\n",
    "data.test_path = \"Resources/test\"\n",
    "folder_names = [\"pants\", \"purse\",\"skirt\",\"sneaker\",\"sweater\",\"t-shirt\"]\n",
    "#used later for labeling the predictions\n",
    "clothing_dict = {0: \"pants\", 1: \"purse\", 2:\"skirt\", 3:\"sneaker\", 4:\"sweater\", 5:\"t-shirt\"}"
   ]
  },
  {
   "cell_type": "code",
   "execution_count": null,
   "metadata": {
    "colab": {
     "base_uri": "https://localhost:8080/",
     "height": 323
    },
    "colab_type": "code",
    "id": "9OeSdn2U3mv5",
    "outputId": "95558a13-0ecc-4d4a-b4fd-0532d9d13e1d"
   },
   "outputs": [],
   "source": [
    "X_train, Y_train = data.get_images(data.train_path, folder_names)"
   ]
  },
  {
   "cell_type": "code",
   "execution_count": null,
   "metadata": {
    "colab": {
     "base_uri": "https://localhost:8080/",
     "height": 323
    },
    "colab_type": "code",
    "id": "-I71MGD23wgz",
    "outputId": "9f6d322b-50d2-4d37-ff14-2818d69a35c7"
   },
   "outputs": [],
   "source": [
    "X_test, Y_test = data.get_images(data.test_path, folder_names)"
   ]
  },
  {
   "cell_type": "code",
   "execution_count": null,
   "metadata": {
    "colab": {
     "base_uri": "https://localhost:8080/",
     "height": 34
    },
    "colab_type": "code",
    "id": "pHPDG_El322i",
    "outputId": "247bef41-6786-4f53-c8a7-8ca3cb64e891"
   },
   "outputs": [],
   "source": [
    "X_train.shape"
   ]
  },
  {
   "cell_type": "code",
   "execution_count": null,
   "metadata": {
    "colab": {},
    "colab_type": "code",
    "id": "e1wEVxYm4CyS"
   },
   "outputs": [],
   "source": [
    "image_input = Input(shape=(224,224,3))\n",
    "\n",
    "vgg_model = VGG19(input_tensor=image_input,include_top=True, weights='imagenet')\n",
    "vgg_model.summary()"
   ]
  },
  {
   "cell_type": "code",
   "execution_count": null,
   "metadata": {
    "colab": {},
    "colab_type": "code",
    "id": "dlBLnysFcFcr"
   },
   "outputs": [],
   "source": [
    "X_train_features = vgg_model.predict(X_train)"
   ]
  },
  {
   "cell_type": "code",
   "execution_count": null,
   "metadata": {
    "colab": {},
    "colab_type": "code",
    "id": "6Awcvw4ucI-r"
   },
   "outputs": [],
   "source": [
    "X_test_features = vgg_model.predict(X_test)"
   ]
  },
  {
   "cell_type": "code",
   "execution_count": null,
   "metadata": {
    "colab": {},
    "colab_type": "code",
    "id": "HtbcVY6Ec3At"
   },
   "outputs": [],
   "source": [
    "# use the 1000 category output like a set of features into a new model\n",
    "\n",
    "feature_model = Sequential()\n",
    "feature_model.add(Dense(data.num_classes, activation=\"sigmoid\", input_shape=(1000,)))\n",
    "feature_model.compile(loss=\"categorical_crossentropy\", optimizer=\"adam\", metrics=[\"accuracy\"])"
   ]
  },
  {
   "cell_type": "code",
   "execution_count": null,
   "metadata": {
    "colab": {},
    "colab_type": "code",
    "id": "CcdQHI4ifFhN"
   },
   "outputs": [],
   "source": [
    "feature_model.fit(X_train_features, Y_train, epochs=100, validation_data=(X_test_features, Y_test))"
   ]
  },
  {
   "cell_type": "code",
   "execution_count": 0,
   "metadata": {
    "colab": {},
    "colab_type": "code",
    "id": "WDzwEsHHzUaP"
   },
   "outputs": [],
   "source": [
    "feature_model.save('ml-clothing-class.h5')"
   ]
  },
  {
   "cell_type": "code",
   "execution_count": null,
   "metadata": {
    "colab": {
     "base_uri": "https://localhost:8080/",
     "height": 34
    },
    "colab_type": "code",
    "id": "Y6GV6d6KroFx",
    "outputId": "43480001-5cda-496e-e492-f6c1d88633d3"
   },
   "outputs": [],
   "source": [
    "#testing out model on single image\n",
    "image_path = os.path.join(\"sneaker_test.jpg\")\n",
    "#process image to specifications\n",
    "x = data.process_image(image_path)\n",
    "#passing through VGG19\n",
    "processed = vgg_model.predict(x)\n",
    "processed.shape\n",
    "#predicting using feature_model\n",
    "predictions = feature_model.predict(processed)\n",
    "print('Predicted:',clothing_dict[np.argmax(predictions)])"
   ]
  },
  {
   "cell_type": "code",
   "execution_count": 0,
   "metadata": {
    "colab": {},
    "colab_type": "code",
    "id": "pAvGPIbkfFTl"
   },
   "outputs": [],
   "source": []
  },
  {
   "cell_type": "code",
   "execution_count": 0,
   "metadata": {
    "colab": {},
    "colab_type": "code",
    "id": "WiCS26Qgq8dj"
   },
   "outputs": [],
   "source": []
  },
  {
   "cell_type": "code",
   "execution_count": 0,
   "metadata": {
    "colab": {},
    "colab_type": "code",
    "id": "NA-VC7q7sRMr"
   },
   "outputs": [],
   "source": []
  },
  {
   "cell_type": "code",
   "execution_count": 0,
   "metadata": {
    "colab": {},
    "colab_type": "code",
    "id": "tYJBkhorsayf"
   },
   "outputs": [],
   "source": []
  },
  {
   "cell_type": "code",
   "execution_count": 0,
   "metadata": {
    "colab": {},
    "colab_type": "code",
    "id": "EydTWAWOcB7k"
   },
   "outputs": [],
   "source": [
    "\n"
   ]
  },
  {
   "cell_type": "code",
   "execution_count": 0,
   "metadata": {
    "colab": {},
    "colab_type": "code",
    "id": "M5qpt0eUcO8h"
   },
   "outputs": [],
   "source": []
  }
 ],
 "metadata": {
  "accelerator": "GPU",
  "colab": {
   "name": "ml-clothing-classification.ipynb",
   "provenance": []
  },
  "kernelspec": {
   "display_name": "Conda [PythonData]",
   "language": "python",
   "name": "pythondata"
  },
  "language_info": {
   "codemirror_mode": {
    "name": "ipython",
    "version": 3
   },
   "file_extension": ".py",
   "mimetype": "text/x-python",
   "name": "python",
   "nbconvert_exporter": "python",
   "pygments_lexer": "ipython3",
   "version": "3.7.3"
  }
 },
 "nbformat": 4,
 "nbformat_minor": 1
}
