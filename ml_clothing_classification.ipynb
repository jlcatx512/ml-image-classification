{
  "nbformat": 4,
  "nbformat_minor": 0,
  "metadata": {
    "colab": {
      "name": "ml-clothing-classification.ipynb",
      "provenance": []
    },
    "kernelspec": {
      "name": "python2",
      "display_name": "Python 2"
    },
    "accelerator": "GPU"
  },
  "cells": [
    {
      "cell_type": "code",
      "metadata": {
        "id": "E0sZLTegHBWT",
        "colab_type": "code",
        "colab": {}
      },
      "source": [
        "!pip install -r requirements.txt"
      ],
      "execution_count": 0,
      "outputs": []
    },
    {
      "cell_type": "code",
      "metadata": {
        "id": "CLR8kAbAHKrR",
        "colab_type": "code",
        "colab": {}
      },
      "source": [
        "!tar -xvf archive.tar.gz"
      ],
      "execution_count": 0,
      "outputs": []
    },
    {
      "cell_type": "code",
      "metadata": {
        "id": "3xHCvg8_HK0f",
        "colab_type": "code",
        "colab": {}
      },
      "source": [
        "%matplotlib inline\n",
        "import matplotlib.pyplot as plt\n",
        "import numpy as np\n",
        "import os"
      ],
      "execution_count": 0,
      "outputs": []
    },
    {
      "cell_type": "code",
      "metadata": {
        "id": "0vAyQwE6HK6e",
        "colab_type": "code",
        "colab": {}
      },
      "source": [
        "from keras.applications.vgg19 import (\n",
        "    VGG19, preprocess_input, decode_predictions)\n",
        "from keras.preprocessing import image\n",
        "from keras.models import Sequential\n",
        "from keras.layers import Dense, Activation, Flatten\n",
        "from keras.layers import merge, Input\n",
        "from keras.models import Model\n",
        "from keras.utils import to_categorical, np_utils\n",
        "from sklearn.utils import shuffle\n",
        "from sklearn.model_selection import train_test_split"
      ],
      "execution_count": 0,
      "outputs": []
    },
    {
      "cell_type": "code",
      "metadata": {
        "id": "JVZZ3dz8HK9d",
        "colab_type": "code",
        "colab": {}
      },
      "source": [
        "import data"
      ],
      "execution_count": 0,
      "outputs": []
    },
    {
      "cell_type": "code",
      "metadata": {
        "id": "6tm3MsjB3cDn",
        "colab_type": "code",
        "colab": {}
      },
      "source": [
        "data.train_path = \"Resources/train\"\n",
        "data.test_path = \"Resources/test\"\n",
        "folder_names = [\"pants\", \"purse\",\"skirt\",\"sneaker\",\"sweater\",\"t-shirt\"]\n",
        "#used later for labeling the predictions\n",
        "clothing_dict = {0: \"pants\", 1: \"purse\", 2:\"skirt\", 3:\"sneaker\", 4:\"sweater\", 5:\"t-shirt\"}"
      ],
      "execution_count": 0,
      "outputs": []
    },
    {
      "cell_type": "code",
      "metadata": {
        "id": "9OeSdn2U3mv5",
        "colab_type": "code",
        "colab": {
          "base_uri": "https://localhost:8080/",
          "height": 323
        },
        "outputId": "95558a13-0ecc-4d4a-b4fd-0532d9d13e1d"
      },
      "source": [
        "X_train, Y_train = data.get_images(data.train_path, folder_names)"
      ],
      "execution_count": 92,
      "outputs": [
        {
          "output_type": "stream",
          "text": [
            "Resources/train/sweater/*\n",
            "Loaded the images of dataset-sweater\n",
            "\n",
            "Resources/train/sneaker/*\n",
            "Loaded the images of dataset-sneaker\n",
            "\n",
            "Resources/train/skirt/*\n",
            "Loaded the images of dataset-skirt\n",
            "\n",
            "Resources/train/pants/*\n",
            "Loaded the images of dataset-pants\n",
            "\n",
            "Resources/train/t-shirt/*\n",
            "Loaded the images of dataset-t-shirt\n",
            "\n",
            "Resources/train/purse/*\n",
            "Loaded the images of dataset-purse\n",
            "\n"
          ],
          "name": "stdout"
        }
      ]
    },
    {
      "cell_type": "code",
      "metadata": {
        "id": "-I71MGD23wgz",
        "colab_type": "code",
        "colab": {
          "base_uri": "https://localhost:8080/",
          "height": 323
        },
        "outputId": "9f6d322b-50d2-4d37-ff14-2818d69a35c7"
      },
      "source": [
        "X_test, Y_test = data.get_images(data.test_path, folder_names)"
      ],
      "execution_count": 93,
      "outputs": [
        {
          "output_type": "stream",
          "text": [
            "Resources/test/sweater/*\n",
            "Loaded the images of dataset-sweater\n",
            "\n",
            "Resources/test/sneaker/*\n",
            "Loaded the images of dataset-sneaker\n",
            "\n",
            "Resources/test/skirt/*\n",
            "Loaded the images of dataset-skirt\n",
            "\n",
            "Resources/test/pants/*\n",
            "Loaded the images of dataset-pants\n",
            "\n",
            "Resources/test/t-shirt/*\n",
            "Loaded the images of dataset-t-shirt\n",
            "\n",
            "Resources/test/purse/*\n",
            "Loaded the images of dataset-purse\n",
            "\n"
          ],
          "name": "stdout"
        }
      ]
    },
    {
      "cell_type": "code",
      "metadata": {
        "id": "pHPDG_El322i",
        "colab_type": "code",
        "colab": {
          "base_uri": "https://localhost:8080/",
          "height": 34
        },
        "outputId": "247bef41-6786-4f53-c8a7-8ca3cb64e891"
      },
      "source": [
        "X_train.shape"
      ],
      "execution_count": 94,
      "outputs": [
        {
          "output_type": "execute_result",
          "data": {
            "text/plain": [
              "(282, 224, 224, 3)"
            ]
          },
          "metadata": {
            "tags": []
          },
          "execution_count": 94
        }
      ]
    },
    {
      "cell_type": "code",
      "metadata": {
        "id": "e1wEVxYm4CyS",
        "colab_type": "code",
        "colab": {}
      },
      "source": [
        "image_input = Input(shape=(224,224,3))\n",
        "\n",
        "vgg_model = VGG19(input_tensor=image_input,include_top=True, weights='imagenet')\n",
        "vgg_model.summary()"
      ],
      "execution_count": 0,
      "outputs": []
    },
    {
      "cell_type": "code",
      "metadata": {
        "id": "dlBLnysFcFcr",
        "colab_type": "code",
        "colab": {}
      },
      "source": [
        "X_train_features = vgg_model.predict(X_train)"
      ],
      "execution_count": 0,
      "outputs": []
    },
    {
      "cell_type": "code",
      "metadata": {
        "id": "6Awcvw4ucI-r",
        "colab_type": "code",
        "colab": {}
      },
      "source": [
        "X_test_features = vgg_model.predict(X_test)"
      ],
      "execution_count": 0,
      "outputs": []
    },
    {
      "cell_type": "code",
      "metadata": {
        "id": "HtbcVY6Ec3At",
        "colab_type": "code",
        "colab": {}
      },
      "source": [
        "# use the 1000 category output like a set of features into a new model\n",
        "\n",
        "feature_model = Sequential()\n",
        "feature_model.add(Dense(data.num_classes, activation=\"sigmoid\", input_shape=(1000,)))\n",
        "feature_model.compile(loss=\"categorical_crossentropy\", optimizer=\"adam\", metrics=[\"accuracy\"])"
      ],
      "execution_count": 0,
      "outputs": []
    },
    {
      "cell_type": "code",
      "metadata": {
        "id": "CcdQHI4ifFhN",
        "colab_type": "code",
        "colab": {}
      },
      "source": [
        "feature_model.fit(X_train_features, Y_train, epochs=100, validation_data=(X_test_features, Y_test))"
      ],
      "execution_count": 0,
      "outputs": []
    },
    {
      "cell_type": "code",
      "metadata": {
        "id": "WDzwEsHHzUaP",
        "colab_type": "code",
        "colab": {}
      },
      "source": [
        "feature_model.save('ml-clothing-class.h5')"
      ],
      "execution_count": 0,
      "outputs": []
    },
    {
      "cell_type": "code",
      "metadata": {
        "id": "Y6GV6d6KroFx",
        "colab_type": "code",
        "colab": {
          "base_uri": "https://localhost:8080/",
          "height": 34
        },
        "outputId": "43480001-5cda-496e-e492-f6c1d88633d3"
      },
      "source": [
        "#testing out model on single image\n",
        "image_path = os.path.join(\"sneaker_test.jpg\")\n",
        "#process image to specifications\n",
        "x = data.process_image(image_path)\n",
        "#passing through VGG19\n",
        "processed = vgg_model.predict(x)\n",
        "processed.shape\n",
        "#predicting using feature_model\n",
        "predictions = feature_model.predict(processed)\n",
        "print('Predicted:',clothing_dict[np.argmax(predictions)])"
      ],
      "execution_count": 106,
      "outputs": [
        {
          "output_type": "stream",
          "text": [
            "('Predicted:', 'sneaker')\n"
          ],
          "name": "stdout"
        }
      ]
    },
    {
      "cell_type": "code",
      "metadata": {
        "id": "pAvGPIbkfFTl",
        "colab_type": "code",
        "colab": {}
      },
      "source": [
        ""
      ],
      "execution_count": 0,
      "outputs": []
    },
    {
      "cell_type": "code",
      "metadata": {
        "id": "WiCS26Qgq8dj",
        "colab_type": "code",
        "colab": {}
      },
      "source": [
        ""
      ],
      "execution_count": 0,
      "outputs": []
    },
    {
      "cell_type": "code",
      "metadata": {
        "id": "NA-VC7q7sRMr",
        "colab_type": "code",
        "colab": {}
      },
      "source": [
        ""
      ],
      "execution_count": 0,
      "outputs": []
    },
    {
      "cell_type": "code",
      "metadata": {
        "id": "tYJBkhorsayf",
        "colab_type": "code",
        "colab": {}
      },
      "source": [
        ""
      ],
      "execution_count": 0,
      "outputs": []
    },
    {
      "cell_type": "code",
      "metadata": {
        "id": "EydTWAWOcB7k",
        "colab_type": "code",
        "colab": {}
      },
      "source": [
        "\n"
      ],
      "execution_count": 0,
      "outputs": []
    },
    {
      "cell_type": "code",
      "metadata": {
        "id": "M5qpt0eUcO8h",
        "colab_type": "code",
        "colab": {}
      },
      "source": [
        ""
      ],
      "execution_count": 0,
      "outputs": []
    }
  ]
}